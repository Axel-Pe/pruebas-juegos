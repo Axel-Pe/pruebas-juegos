{
 "cells": [
  {
   "cell_type": "code",
   "execution_count": 1,
   "metadata": {},
   "outputs": [
    {
     "name": "stdout",
     "output_type": "stream",
     "text": [
      "Requirement already satisfied: tensorflow-gpu==2.0.0-alpha0 in c:\\users\\axel\\anaconda3\\lib\\site-packages (2.0.0a0)\n",
      "Requirement already satisfied: grpcio>=1.8.6 in c:\\users\\axel\\anaconda3\\lib\\site-packages (from tensorflow-gpu==2.0.0-alpha0) (1.19.0)\n",
      "Requirement already satisfied: numpy<2.0,>=1.14.5 in c:\\users\\axel\\anaconda3\\lib\\site-packages (from tensorflow-gpu==2.0.0-alpha0) (1.16.1)\n",
      "Requirement already satisfied: protobuf>=3.6.1 in c:\\users\\axel\\anaconda3\\lib\\site-packages (from tensorflow-gpu==2.0.0-alpha0) (3.7.1)\n",
      "Requirement already satisfied: tb-nightly<1.14.0a20190302,>=1.14.0a20190301 in c:\\users\\axel\\anaconda3\\lib\\site-packages (from tensorflow-gpu==2.0.0-alpha0) (1.14.0a20190301)\n",
      "Requirement already satisfied: wheel>=0.26 in c:\\users\\axel\\anaconda3\\lib\\site-packages (from tensorflow-gpu==2.0.0-alpha0) (0.32.3)\n",
      "Requirement already satisfied: keras-applications>=1.0.6 in c:\\users\\axel\\anaconda3\\lib\\site-packages (from tensorflow-gpu==2.0.0-alpha0) (1.0.7)\n",
      "Requirement already satisfied: absl-py>=0.7.0 in c:\\users\\axel\\anaconda3\\lib\\site-packages (from tensorflow-gpu==2.0.0-alpha0) (0.7.1)\n",
      "Requirement already satisfied: google-pasta>=0.1.2 in c:\\users\\axel\\anaconda3\\lib\\site-packages (from tensorflow-gpu==2.0.0-alpha0) (0.1.4)\n",
      "Requirement already satisfied: tf-estimator-nightly<1.14.0.dev2019030116,>=1.14.0.dev2019030115 in c:\\users\\axel\\anaconda3\\lib\\site-packages (from tensorflow-gpu==2.0.0-alpha0) (1.14.0.dev2019030115)\n",
      "Requirement already satisfied: astor>=0.6.0 in c:\\users\\axel\\anaconda3\\lib\\site-packages (from tensorflow-gpu==2.0.0-alpha0) (0.7.1)\n",
      "Requirement already satisfied: termcolor>=1.1.0 in c:\\users\\axel\\anaconda3\\lib\\site-packages (from tensorflow-gpu==2.0.0-alpha0) (1.1.0)\n",
      "Requirement already satisfied: gast>=0.2.0 in c:\\users\\axel\\anaconda3\\lib\\site-packages (from tensorflow-gpu==2.0.0-alpha0) (0.2.2)\n",
      "Requirement already satisfied: keras-preprocessing>=1.0.5 in c:\\users\\axel\\anaconda3\\lib\\site-packages (from tensorflow-gpu==2.0.0-alpha0) (1.0.9)\n",
      "Requirement already satisfied: six>=1.10.0 in c:\\users\\axel\\anaconda3\\lib\\site-packages (from tensorflow-gpu==2.0.0-alpha0) (1.12.0)\n",
      "Requirement already satisfied: setuptools in c:\\users\\axel\\anaconda3\\lib\\site-packages (from protobuf>=3.6.1->tensorflow-gpu==2.0.0-alpha0) (40.6.3)\n",
      "Requirement already satisfied: markdown>=2.6.8 in c:\\users\\axel\\anaconda3\\lib\\site-packages (from tb-nightly<1.14.0a20190302,>=1.14.0a20190301->tensorflow-gpu==2.0.0-alpha0) (3.1)\n",
      "Requirement already satisfied: werkzeug>=0.11.15 in c:\\users\\axel\\anaconda3\\lib\\site-packages (from tb-nightly<1.14.0a20190302,>=1.14.0a20190301->tensorflow-gpu==2.0.0-alpha0) (0.14.1)\n",
      "Requirement already satisfied: h5py in c:\\users\\axel\\anaconda3\\lib\\site-packages (from keras-applications>=1.0.6->tensorflow-gpu==2.0.0-alpha0) (2.8.0)\n"
     ]
    }
   ],
   "source": [
    "from __future__ import absolute_import, division, print_function#, unicode_literals\n",
    "\n",
    "import numpy as np\n",
    "import scipy as sc\n",
    "\n",
    "import matplotlib.pyplot as plt\n",
    "!pip install tensorflow-gpu==2.0.0-alpha0\n",
    "\n",
    "import tensorflow as tf"
   ]
  },
  {
   "cell_type": "code",
   "execution_count": null,
   "metadata": {},
   "outputs": [],
   "source": []
  }
 ],
 "metadata": {
  "kernelspec": {
   "display_name": "Python 3",
   "language": "python",
   "name": "python3"
  },
  "language_info": {
   "codemirror_mode": {
    "name": "ipython",
    "version": 3
   },
   "file_extension": ".py",
   "mimetype": "text/x-python",
   "name": "python",
   "nbconvert_exporter": "python",
   "pygments_lexer": "ipython3",
   "version": "3.7.1"
  }
 },
 "nbformat": 4,
 "nbformat_minor": 2
}
