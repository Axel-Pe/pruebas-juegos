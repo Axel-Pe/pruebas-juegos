{
 "cells": [
  {
   "cell_type": "code",
   "execution_count": 1,
   "metadata": {},
   "outputs": [],
   "source": [
    "import numpy as np\n",
    "import scipy as sc\n",
    "import matplotlib.pyplot as plt\n",
    "from sklearn.datasets import make_circles"
   ]
  },
  {
   "cell_type": "code",
   "execution_count": 2,
   "metadata": {},
   "outputs": [
    {
     "data": {
      "image/png": "[encoded data removed]",
      "text/plain": [
       "<Figure size 432x288 with 1 Axes>"
      ]
     },
     "metadata": {
      "needs_background": "light"
     },
     "output_type": "display_data"
    }
   ],
   "source": [
    "#Crear Dataset\n",
    "n = 500\n",
    "p = 2\n",
    "\n",
    "X , Y = make_circles(n_samples=n,factor = 0.5, noise = 0.05)\n",
    "#print(Y)\n",
    "plt.scatter(X[Y == 0,0],X[Y == 0,1],c= \"skyblue\")\n",
    "plt.scatter(X[Y == 1,0],X[Y == 1,1],c =\"red\")\n",
    "plt.axis(\"equal\")\n",
    "plt.show()"
   ]
  },
  {
   "cell_type": "code",
   "execution_count": 3,
   "metadata": {},
   "outputs": [],
   "source": [
    "#clase de la capa de la red\n",
    "\n",
    "class neural_layer():\n",
    "\n",
    "    def __init__(self,n_con,n_neur,act_f):\n",
    "        \n",
    "        self.act_f= act_f\n",
    "        \n",
    "        self.b = np.random.rand(1,n_neur) * 2-1\n",
    "        self.w = np.random.rand(n_con,n_neur) * 2-1"
   ]
  },
  {
   "cell_type": "code",
   "execution_count": 4,
   "metadata": {},
   "outputs": [
    {
     "data": {
      "text/plain": [
       "[<matplotlib.lines.Line2D at 0x2294ff3c8d0>]"
      ]
     },
     "execution_count": 4,
     "metadata": {},
     "output_type": "execute_result"
    },
    {
     "data": {
      "image/png": "[encoded data removed]",
      "text/plain": [
       "<Figure size 432x288 with 1 Axes>"
      ]
     },
     "metadata": {
      "needs_background": "light"
     },
     "output_type": "display_data"
    }
   ],
   "source": [
    "#funciones de activacion\n",
    "\n",
    "sigm = (lambda x: 1/ (1+np.e **(-x)),\n",
    "        lambda x:x * (1-x))\n",
    "        \n",
    " #relu,tangente ipervolica\n",
    "#relu = lambda x: np.maximum(0,x)\n",
    "        \n",
    "        \n",
    "_x = np.linspace(-5,5,100)\n",
    "plt.plot(_x,sigm[0](_x))"
   ]
  },
  {
   "cell_type": "code",
   "execution_count": 5,
   "metadata": {},
   "outputs": [],
   "source": [
    "#l0 = neural_layer(p,4,sigm)\n",
    "#l1 = neural_layer(4,8,sigm)\n",
    "#...\n",
    "\n",
    "#topology =[p,4,8,16,9,4,1]\n",
    "\n",
    "\n",
    "def create_nn(topology, act_f):\n",
    "    \n",
    "    nn = []\n",
    "    \n",
    "    for l, layer in enumerate(topology[:-1]):\n",
    "    \n",
    "        nn.append(neural_layer(topology[1],topology[l+1],act_f))\n",
    "    \n",
    "    return nn\n",
    "#topology =[p,4,8,16,9,4,1]\n",
    "\n",
    "#create_nn(topology,sigm)"
   ]
  },
  {
   "cell_type": "markdown",
   "metadata": {},
   "source": [
    "topology =[p,4,8,16,9,4,1]\n",
    "\n",
    "neural_net = create_nn(topology,sigm)\n",
    "\n",
    "l2_cost = (lambda Yp,Yr: np.mean((Yp-Yr)**2),\n",
    "           lambda Yp,Yr: (Yp - Yr))\n",
    "def train(neural_net, X, Y, l2_cost, lr=0.5,train=true):\n",
    "    #Forward pass\n",
    "    #out = [(z0,a0),(z1,a1),etc]\n",
    "        out = [(None,X)]\n",
    "    \n",
    "        for l, layer in enumerate(neural_net):\n",
    "  \n",
    "                    z = out[-1][1] @ neural_net[l].W + neural_net[l].b\n",
    "                    a = neural_net[l].act_f[0](z)\n",
    "  \n",
    "                    out.append((z, a))\n",
    "            \n",
    "                    print(out[-1],[1])\n",
    "            \n",
    "            \n",
    "        train(neural_net, X, Y, l2_cost, 0.5)\n",
    "               \n",
    "#   z = X @ neural_net[0].w + neural_net[0].b\n",
    "#a = neural_net[0].act_f(z)\n",
    "#  a @neural_net"
   ]
  },
  {
   "cell_type": "code",
   "execution_count": 58,
   "metadata": {},
   "outputs": [
    {
     "ename": "IndentationError",
     "evalue": "unexpected indent (<ipython-input-58-16979b4bf8dd>, line 43)",
     "output_type": "error",
     "traceback": [
      "\u001b[1;36m  File \u001b[1;32m\"<ipython-input-58-16979b4bf8dd>\"\u001b[1;36m, line \u001b[1;32m43\u001b[0m\n\u001b[1;33m    neural_net[l].b = neural_net[l].b - np.mean(deltas[0], axis=0, keepdims=True) * lr\u001b[0m\n\u001b[1;37m    ^\u001b[0m\n\u001b[1;31mIndentationError\u001b[0m\u001b[1;31m:\u001b[0m unexpected indent\n"
     ]
    }
   ],
   "source": [
    "# FUNCION DE ENTRENAMIENTO\n",
    "\n",
    "topology = [p, 4, 8, 1]\n",
    "\n",
    "neural_net = create_nn(topology, sigm)  \n",
    "\n",
    "l2_cost = (lambda Yp, Yr: np.mean((Yp - Yr) ** 2),\n",
    "           lambda Yp, Yr: (Yp - Yr))\n",
    "\n",
    "\n",
    "\n",
    "def train(neural_net, X, Y, l2_cost, lr=0.5, train=True):\n",
    "  \n",
    "  out = [(None, X)]\n",
    "  \n",
    "  # Forward pass\n",
    "  for l, layer in enumerate(neural_net):\n",
    "  \n",
    "    z = out[-1][1] @ neural_net[l].W + neural_net[l].b\n",
    "    a = neural_net[l].act_f[0](z)\n",
    "  \n",
    "    out.append((z, a))\n",
    "    \n",
    "  \n",
    "  if train:\n",
    "    \n",
    "    # Backward pass \n",
    "    deltas = []\n",
    "    \n",
    "    for l in reversed(range(0, len(neural_net))):\n",
    "      \n",
    "          z = out[l+1][0]\n",
    "          a = out[l+1][1]\n",
    "      \n",
    "          if l == len(neural_net) - 1:\n",
    "            deltas.insert(0, l2_cost[1](a, Y) * neural_net[l].act_f[1](a))\n",
    "          else:\n",
    "            deltas.insert(0, deltas[0] @ _W.T * neural_net[l].act_f[1](a))\n",
    "\n",
    "          _W = neural_net[l].W\n",
    "\n",
    "              # Gradient descent\n",
    "                    neural_net[l].b = neural_net[l].b - np.mean(deltas[0], axis=0, keepdims=True) * lr  \n",
    "                    neural_net[l].W = neural_net[l].W - out[l][1].T @ deltas[0] * lr\n",
    "\n",
    "          return out[-1][1]\n",
    "\n",
    "\n",
    "            train(neural_net, X, Y, l2_cost, 0.5)\n",
    "    print(\"\")"
   ]
  }
 ],
 "metadata": {
  "kernelspec": {
   "display_name": "Python 3",
   "language": "python",
   "name": "python3"
  },
  "language_info": {
   "codemirror_mode": {
    "name": "ipython",
    "version": 3
   },
   "file_extension": ".py",
   "mimetype": "text/x-python",
   "name": "python",
   "nbconvert_exporter": "python",
   "pygments_lexer": "ipython3",
   "version": "3.7.1"
  }
 },
 "nbformat": 4,
 "nbformat_minor": 2
}
